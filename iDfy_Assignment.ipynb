{
  "nbformat": 4,
  "nbformat_minor": 0,
  "metadata": {
    "kernelspec": {
      "display_name": "Python 3",
      "language": "python",
      "name": "python3"
    },
    "language_info": {
      "codemirror_mode": {
        "name": "ipython",
        "version": 3
      },
      "file_extension": ".py",
      "mimetype": "text/x-python",
      "name": "python",
      "nbconvert_exporter": "python",
      "pygments_lexer": "ipython3",
      "version": "3.7.4"
    },
    "colab": {
      "name": "iDfy_Assignment.ipynb",
      "provenance": [],
      "collapsed_sections": [],
      "toc_visible": true
    },
    "accelerator": "GPU"
  },
  "cells": [
    {
      "cell_type": "markdown",
      "metadata": {
        "id": "GW8iKcTJR3Tv",
        "colab_type": "text"
      },
      "source": [
        "# Assignment : IDfy\n",
        "- @Name : Subham Sarkar\n",
        "- @Github : https://github.com/SubhamIO\n",
        "- @LinkedIn : https://www.linkedin.com/in/subham-sarkar-4224aa147/\n",
        "- @Portfolio : https://subhamio.github.io/SubhamSarkar-PortfolioWebsite/"
      ]
    },
    {
      "cell_type": "markdown",
      "metadata": {
        "id": "CDez9XT7RmXz",
        "colab_type": "text"
      },
      "source": [
        "# Title : Text Recognition from low quality License Plates using Deep Learning"
      ]
    },
    {
      "cell_type": "markdown",
      "metadata": {
        "id": "CMFIrKHtRTvW",
        "colab_type": "text"
      },
      "source": [
        "## Objective:\n",
        "- The objective of this assignment is to build an OCR solution for the provided dataset. This specific dataset is normal and HDR readings of license plates."
      ]
    },
    {
      "cell_type": "markdown",
      "metadata": {
        "id": "tBQ-kZnpRbZ3",
        "colab_type": "text"
      },
      "source": [
        "## Requirements:\n",
        "1. Use an 80:20 train:test split on the provided dataset\n",
        "2. Create a model for reading the text using any approaches or tools that you are familiar with\n",
        "or can learn\n",
        "3. Use the available test set to check the accuracy of your model"
      ]
    },
    {
      "cell_type": "markdown",
      "metadata": {
        "id": "ixY5fnzG0_lT",
        "colab_type": "text"
      },
      "source": [
        "## Dataset:\n",
        "1. The image dataset ​here​ contains 652 images of cropped license plates with a csv containing annotation as well.\n",
        "- Link: https://medusa.fit.vutbr.cz/traffic/download/513/"
      ]
    },
    {
      "cell_type": "markdown",
      "metadata": {
        "id": "IqrQoqg734Fx",
        "colab_type": "text"
      },
      "source": [
        "## Load Libraries"
      ]
    },
    {
      "cell_type": "code",
      "metadata": {
        "id": "zJK-NhTE4DHy",
        "colab_type": "code",
        "colab": {
          "base_uri": "https://localhost:8080/",
          "height": 54
        },
        "outputId": "c7a0849a-dd1a-4f7d-c557-b9a85c056ac0"
      },
      "source": [
        "from google.colab import drive\n",
        "drive.mount('/content/drive')"
      ],
      "execution_count": 62,
      "outputs": [
        {
          "output_type": "stream",
          "text": [
            "Drive already mounted at /content/drive; to attempt to forcibly remount, call drive.mount(\"/content/drive\", force_remount=True).\n"
          ],
          "name": "stdout"
        }
      ]
    },
    {
      "cell_type": "code",
      "metadata": {
        "id": "D3Y8hYpz4l9O",
        "colab_type": "code",
        "colab": {
          "base_uri": "https://localhost:8080/",
          "height": 51
        },
        "outputId": "d55471da-a37d-4bd4-af91-31d07cebf28b"
      },
      "source": [
        "cd drive/My\\ Drive/"
      ],
      "execution_count": 63,
      "outputs": [
        {
          "output_type": "stream",
          "text": [
            "[Errno 2] No such file or directory: 'drive/My Drive/'\n",
            "/content/drive/My Drive\n"
          ],
          "name": "stdout"
        }
      ]
    },
    {
      "cell_type": "code",
      "metadata": {
        "id": "WA8fVRsJ34Fz",
        "colab_type": "code",
        "colab": {}
      },
      "source": [
        "import re\n",
        "import cv2 \n",
        "import numpy as np\n",
        "\n",
        "from matplotlib import pyplot as plt\n",
        "import pandas as pd\n",
        "from keras.preprocessing.image import *\n",
        "from keras.layers.core import *\n",
        "import tensorflow as tf\n",
        "from keras.layers import *\n",
        "from keras.models import *\n",
        "import keras\n",
        "from keras import backend as K\n",
        "from keras.callbacks import *\n",
        "np.random.seed(0)\n",
        "from keras.utils.np_utils import to_categorical   \n",
        "from keras.regularizers import l2\n",
        "import seaborn as sns\n"
      ],
      "execution_count": 0,
      "outputs": []
    },
    {
      "cell_type": "markdown",
      "metadata": {
        "id": "37uMt28f97DL",
        "colab_type": "text"
      },
      "source": [
        "# Data Acquisition"
      ]
    },
    {
      "cell_type": "code",
      "metadata": {
        "id": "nnNPaYU734F_",
        "colab_type": "code",
        "colab": {}
      },
      "source": [
        "# base_dir = '/Users/subham/Desktop/2017-IWT4S-HDR_LP-dataset/'\n",
        "base_dir = \"./2017-IWT4S-HDR_LP-dataset/\""
      ],
      "execution_count": 0,
      "outputs": []
    },
    {
      "cell_type": "code",
      "metadata": {
        "id": "kvOdUTPE34GC",
        "colab_type": "code",
        "colab": {}
      },
      "source": [
        "data = pd.read_csv(\"./2017-IWT4S-HDR_LP-dataset/\" + \"/trainVal.csv\")"
      ],
      "execution_count": 0,
      "outputs": []
    },
    {
      "cell_type": "code",
      "metadata": {
        "id": "pDdF78mX34GG",
        "colab_type": "code",
        "colab": {
          "base_uri": "https://localhost:8080/",
          "height": 204
        },
        "outputId": "568fc3c9-8b8e-42cd-a41d-9ad202678887"
      },
      "source": [
        "data.tail()"
      ],
      "execution_count": 68,
      "outputs": [
        {
          "output_type": "execute_result",
          "data": {
            "text/html": [
              "<div>\n",
              "<style scoped>\n",
              "    .dataframe tbody tr th:only-of-type {\n",
              "        vertical-align: middle;\n",
              "    }\n",
              "\n",
              "    .dataframe tbody tr th {\n",
              "        vertical-align: top;\n",
              "    }\n",
              "\n",
              "    .dataframe thead th {\n",
              "        text-align: right;\n",
              "    }\n",
              "</style>\n",
              "<table border=\"1\" class=\"dataframe\">\n",
              "  <thead>\n",
              "    <tr style=\"text-align: right;\">\n",
              "      <th></th>\n",
              "      <th>track_id</th>\n",
              "      <th>image_path</th>\n",
              "      <th>lp</th>\n",
              "      <th>train</th>\n",
              "    </tr>\n",
              "  </thead>\n",
              "  <tbody>\n",
              "    <tr>\n",
              "      <th>647</th>\n",
              "      <td>./crop_m4/I00084.png</td>\n",
              "      <td>./crop_h4/I00084.png</td>\n",
              "      <td>2B90178</td>\n",
              "      <td>0</td>\n",
              "    </tr>\n",
              "    <tr>\n",
              "      <th>648</th>\n",
              "      <td>./crop_m4/I00085.png</td>\n",
              "      <td>./crop_m4/I00085.png</td>\n",
              "      <td>7B59839</td>\n",
              "      <td>0</td>\n",
              "    </tr>\n",
              "    <tr>\n",
              "      <th>649</th>\n",
              "      <td>./crop_m4/I00085.png</td>\n",
              "      <td>./crop_h4/I00085.png</td>\n",
              "      <td>7B59839</td>\n",
              "      <td>0</td>\n",
              "    </tr>\n",
              "    <tr>\n",
              "      <th>650</th>\n",
              "      <td>./crop_m4/I00086.png</td>\n",
              "      <td>./crop_m4/I00086.png</td>\n",
              "      <td>7B11123</td>\n",
              "      <td>0</td>\n",
              "    </tr>\n",
              "    <tr>\n",
              "      <th>651</th>\n",
              "      <td>./crop_m4/I00086.png</td>\n",
              "      <td>./crop_h4/I00086.png</td>\n",
              "      <td>7B11123</td>\n",
              "      <td>0</td>\n",
              "    </tr>\n",
              "  </tbody>\n",
              "</table>\n",
              "</div>"
            ],
            "text/plain": [
              "                 track_id            image_path       lp  train\n",
              "647  ./crop_m4/I00084.png  ./crop_h4/I00084.png  2B90178      0\n",
              "648  ./crop_m4/I00085.png  ./crop_m4/I00085.png  7B59839      0\n",
              "649  ./crop_m4/I00085.png  ./crop_h4/I00085.png  7B59839      0\n",
              "650  ./crop_m4/I00086.png  ./crop_m4/I00086.png  7B11123      0\n",
              "651  ./crop_m4/I00086.png  ./crop_h4/I00086.png  7B11123      0"
            ]
          },
          "metadata": {
            "tags": []
          },
          "execution_count": 68
        }
      ]
    },
    {
      "cell_type": "code",
      "metadata": {
        "id": "Z6Toi4Pb34GJ",
        "colab_type": "code",
        "colab": {
          "base_uri": "https://localhost:8080/",
          "height": 34
        },
        "outputId": "d089b0bb-41e2-41fa-c6bf-27c99d41cb73"
      },
      "source": [
        "n = data.shape[0]\n",
        "print(n)"
      ],
      "execution_count": 69,
      "outputs": [
        {
          "output_type": "stream",
          "text": [
            "652\n"
          ],
          "name": "stdout"
        }
      ]
    },
    {
      "cell_type": "code",
      "metadata": {
        "id": "G66GA9yd34GN",
        "colab_type": "code",
        "colab": {
          "base_uri": "https://localhost:8080/",
          "height": 313
        },
        "outputId": "cb450cc2-c09f-403e-fd73-f1785a40eef5"
      },
      "source": [
        "ax = sns.countplot(x=data['train'], data=data)\n",
        "print(data['train'].value_counts())"
      ],
      "execution_count": 70,
      "outputs": [
        {
          "output_type": "stream",
          "text": [
            "0    652\n",
            "Name: train, dtype: int64\n"
          ],
          "name": "stdout"
        },
        {
          "output_type": "display_data",
          "data": {
            "image/png": "[encoded data removed]",
            "text/plain": [
              "<Figure size 432x288 with 1 Axes>"
            ]
          },
          "metadata": {
            "tags": [],
            "needs_background": "light"
          }
        }
      ]
    },
    {
      "cell_type": "markdown",
      "metadata": {
        "id": "d-3_9pEB34GR",
        "colab_type": "text"
      },
      "source": [
        "## Observation :\n",
        "- It has only test data as per Readme.txt provided"
      ]
    },
    {
      "cell_type": "code",
      "metadata": {
        "id": "M4Eq9Usu75Vm",
        "colab_type": "code",
        "colab": {
          "base_uri": "https://localhost:8080/",
          "height": 34
        },
        "outputId": "24d76951-d8de-4ffa-9abb-a6347c92cfb3"
      },
      "source": [
        "len(data['track_id'].unique())"
      ],
      "execution_count": 75,
      "outputs": [
        {
          "output_type": "execute_result",
          "data": {
            "text/plain": [
              "326"
            ]
          },
          "metadata": {
            "tags": []
          },
          "execution_count": 75
        }
      ]
    },
    {
      "cell_type": "code",
      "metadata": {
        "id": "125lFZmH8P3Y",
        "colab_type": "code",
        "colab": {
          "base_uri": "https://localhost:8080/",
          "height": 34
        },
        "outputId": "7f064dc0-50e6-43ed-b801-4616340a41b1"
      },
      "source": [
        "len(data['image_path'].unique())"
      ],
      "execution_count": 76,
      "outputs": [
        {
          "output_type": "execute_result",
          "data": {
            "text/plain": [
              "652"
            ]
          },
          "metadata": {
            "tags": []
          },
          "execution_count": 76
        }
      ]
    },
    {
      "cell_type": "code",
      "metadata": {
        "id": "3ftTh1Rf9R2k",
        "colab_type": "code",
        "colab": {
          "base_uri": "https://localhost:8080/",
          "height": 34
        },
        "outputId": "9ac7939e-144f-4efe-c872-54a1b9ec4f4d"
      },
      "source": [
        "len(data['lp'].unique())"
      ],
      "execution_count": 77,
      "outputs": [
        {
          "output_type": "execute_result",
          "data": {
            "text/plain": [
              "302"
            ]
          },
          "metadata": {
            "tags": []
          },
          "execution_count": 77
        }
      ]
    },
    {
      "cell_type": "markdown",
      "metadata": {
        "id": "itcXX_O18J8Z",
        "colab_type": "text"
      },
      "source": [
        "## Observation : \n",
        "- Unique track_id = 326\n",
        "- Unique image_path = 652\n",
        "- Many : 1 relationship [track_id : image_path]\n",
        "- Unique lp = 302 , this means same images are present in different folders. So, not much variation in image types also the dataset is small. Accuracy will be impacted."
      ]
    },
    {
      "cell_type": "markdown",
      "metadata": {
        "id": "Xy9OC9Hh9xSv",
        "colab_type": "text"
      },
      "source": [
        "## Data Preprocessing"
      ]
    },
    {
      "cell_type": "markdown",
      "metadata": {
        "id": "OQoXxJxQ34GR",
        "colab_type": "text"
      },
      "source": [
        "## Create a dictionary of length 37 [26 alphabets and 10 numbers and space] for target map"
      ]
    },
    {
      "cell_type": "code",
      "metadata": {
        "id": "9Zzw5Oly34GS",
        "colab_type": "code",
        "colab": {}
      },
      "source": [
        "letters = \" ABCDEFGHIJKLMNPQRSTUVWXYZ0123456789\"\n",
        "dic = {}\n",
        "for i in range(len(letters)):\n",
        "    dic[i] = letters[i]\n",
        "invert_dic = {}\n",
        "for i in range(len(letters)):\n",
        "    invert_dic[letters[i]] = i"
      ],
      "execution_count": 0,
      "outputs": []
    },
    {
      "cell_type": "code",
      "metadata": {
        "id": "x8vEMPKj34GW",
        "colab_type": "code",
        "colab": {
          "base_uri": "https://localhost:8080/",
          "height": 54
        },
        "outputId": "7e976143-62be-4291-f538-00b6b19b0740"
      },
      "source": [
        "print(dic)"
      ],
      "execution_count": 15,
      "outputs": [
        {
          "output_type": "stream",
          "text": [
            "{0: ' ', 1: 'A', 2: 'B', 3: 'C', 4: 'D', 5: 'E', 6: 'F', 7: 'G', 8: 'H', 9: 'I', 10: 'J', 11: 'K', 12: 'L', 13: 'M', 14: 'N', 15: 'P', 16: 'Q', 17: 'R', 18: 'S', 19: 'T', 20: 'U', 21: 'V', 22: 'W', 23: 'X', 24: 'Y', 25: 'Z', 26: '0', 27: '1', 28: '2', 29: '3', 30: '4', 31: '5', 32: '6', 33: '7', 34: '8', 35: '9'}\n"
          ],
          "name": "stdout"
        }
      ]
    },
    {
      "cell_type": "code",
      "metadata": {
        "id": "Py_M1U9F34GZ",
        "colab_type": "code",
        "colab": {
          "base_uri": "https://localhost:8080/",
          "height": 54
        },
        "outputId": "e6ba07e7-627d-4950-f097-a7751ec6057d"
      },
      "source": [
        "print(invert_dic)"
      ],
      "execution_count": 16,
      "outputs": [
        {
          "output_type": "stream",
          "text": [
            "{' ': 0, 'A': 1, 'B': 2, 'C': 3, 'D': 4, 'E': 5, 'F': 6, 'G': 7, 'H': 8, 'I': 9, 'J': 10, 'K': 11, 'L': 12, 'M': 13, 'N': 14, 'P': 15, 'Q': 16, 'R': 17, 'S': 18, 'T': 19, 'U': 20, 'V': 21, 'W': 22, 'X': 23, 'Y': 24, 'Z': 25, '0': 26, '1': 27, '2': 28, '3': 29, '4': 30, '5': 31, '6': 32, '7': 33, '8': 34, '9': 35}\n"
          ],
          "name": "stdout"
        }
      ]
    },
    {
      "cell_type": "code",
      "metadata": {
        "id": "yWn5iCE634Gc",
        "colab_type": "code",
        "colab": {}
      },
      "source": [
        "X_train = []\n",
        "y_train = []\n",
        "X_test = []\n",
        "y_test = []"
      ],
      "execution_count": 0,
      "outputs": []
    },
    {
      "cell_type": "markdown",
      "metadata": {
        "id": "g40uN75CgwIS",
        "colab_type": "text"
      },
      "source": [
        "## Creating X(feature)  , Y(target)\n"
      ]
    },
    {
      "cell_type": "code",
      "metadata": {
        "id": "Q9RDzROe34Gp",
        "colab_type": "code",
        "colab": {}
      },
      "source": [
        "X = []\n",
        "Y = []"
      ],
      "execution_count": 0,
      "outputs": []
    },
    {
      "cell_type": "code",
      "metadata": {
        "id": "y7z9n0Cg34Gs",
        "colab_type": "code",
        "colab": {}
      },
      "source": [
        "for i in range(n): \n",
        "    temp_y= np.zeros((8)) # Target variable size = 8 dimensional\n",
        "    path = base_dir + data[\"image_path\"][i]\n",
        "    # Read the images in gray scale\n",
        "    temp_x = cv2.imread(base_dir + data[\"image_path\"][i], cv2.IMREAD_GRAYSCALE)\n",
        "    # Resizing as per our need to process in our CNN architecture\n",
        "    temp_x = cv2.resize(temp_x,(256,64))\n",
        "    X.append(temp_x)\n",
        "    # Let's loop over each ground truth and assign each character with index\n",
        "    for j,k in enumerate(data[\"lp\"][i]):\n",
        "        temp_y[j] = invert_dic[k] \n",
        "\n",
        "    Y.append(temp_y)    \n"
      ],
      "execution_count": 0,
      "outputs": []
    },
    {
      "cell_type": "code",
      "metadata": {
        "id": "iLcMj7GU34Gv",
        "colab_type": "code",
        "colab": {
          "base_uri": "https://localhost:8080/",
          "height": 34
        },
        "outputId": "b9bd4ec4-fc69-4c8b-929c-a5b474414d0a"
      },
      "source": [
        "len(X), len(Y)"
      ],
      "execution_count": 21,
      "outputs": [
        {
          "output_type": "execute_result",
          "data": {
            "text/plain": [
              "(652, 652)"
            ]
          },
          "metadata": {
            "tags": []
          },
          "execution_count": 21
        }
      ]
    },
    {
      "cell_type": "code",
      "metadata": {
        "id": "5ofirkT834Gy",
        "colab_type": "code",
        "colab": {}
      },
      "source": [
        "# import pickle\n",
        "\n",
        "# with open('X_train', 'wb') as fp:\n",
        "#     pickle.dump(X_train, fp)"
      ],
      "execution_count": 0,
      "outputs": []
    },
    {
      "cell_type": "code",
      "metadata": {
        "id": "7wLyJlAf34G3",
        "colab_type": "code",
        "colab": {}
      },
      "source": [
        "# with open('X_test', 'wb') as fp:\n",
        "#     pickle.dump(X_test, fp)"
      ],
      "execution_count": 0,
      "outputs": []
    },
    {
      "cell_type": "code",
      "metadata": {
        "id": "bi_hmKNK34G-",
        "colab_type": "code",
        "colab": {}
      },
      "source": [
        "# with open('y_train', 'wb') as fp:\n",
        "#     pickle.dump(y_train, fp)"
      ],
      "execution_count": 0,
      "outputs": []
    },
    {
      "cell_type": "code",
      "metadata": {
        "id": "8LEyJoN_34HA",
        "colab_type": "code",
        "colab": {}
      },
      "source": [
        "# with open('y_test', 'wb') as fp:\n",
        "#     pickle.dump(y_test, fp)"
      ],
      "execution_count": 0,
      "outputs": []
    },
    {
      "cell_type": "code",
      "metadata": {
        "id": "hGrjuKqp34HD",
        "colab_type": "code",
        "colab": {}
      },
      "source": [
        "# with open ('y_test', 'rb') as fp:\n",
        "#     y_test1 = pickle.load(fp)"
      ],
      "execution_count": 0,
      "outputs": []
    },
    {
      "cell_type": "markdown",
      "metadata": {
        "id": "rs-yuZ6x34HF",
        "colab_type": "text"
      },
      "source": [
        "## Let's look at the mapping created"
      ]
    },
    {
      "cell_type": "code",
      "metadata": {
        "id": "xvIyjkJy34HG",
        "colab_type": "code",
        "colab": {
          "base_uri": "https://localhost:8080/",
          "height": 34
        },
        "outputId": "2e69a209-7262-40b0-d68d-a7fe1072da5f"
      },
      "source": [
        "data['lp'][0]"
      ],
      "execution_count": 27,
      "outputs": [
        {
          "output_type": "execute_result",
          "data": {
            "text/plain": [
              "'9B52145'"
            ]
          },
          "metadata": {
            "tags": []
          },
          "execution_count": 27
        }
      ]
    },
    {
      "cell_type": "markdown",
      "metadata": {
        "id": "nRXHtd5V34HK",
        "colab_type": "text"
      },
      "source": [
        "__{' ': 0, 'A': 1, 'B': 2, 'C': 3, 'D': 4, 'E': 5, 'F': 6, 'G': 7, 'H': 8, 'I': 9, 'J': 10, 'K': 11, 'L': 12, 'M': 13, 'N': 14, 'P': 15, 'Q': 16, 'R': 17, 'S': 18, 'T': 19, 'U': 20, 'V': 21, 'W': 22, 'X': 23, 'Y': 24, 'Z': 25, '0': 26, '1': 27, '2': 28, '3': 29, '4': 30, '5': 31, '6': 32, '7': 33, '8': 34, '9': 35}__"
      ]
    },
    {
      "cell_type": "code",
      "metadata": {
        "id": "cfVxKU-B34HK",
        "colab_type": "code",
        "colab": {
          "base_uri": "https://localhost:8080/",
          "height": 34
        },
        "outputId": "01291075-0a9c-4dae-fe4b-ce212e5413f4"
      },
      "source": [
        "Y[0]"
      ],
      "execution_count": 28,
      "outputs": [
        {
          "output_type": "execute_result",
          "data": {
            "text/plain": [
              "array([35.,  2., 31., 28., 27., 30., 31.,  0.])"
            ]
          },
          "metadata": {
            "tags": []
          },
          "execution_count": 28
        }
      ]
    },
    {
      "cell_type": "markdown",
      "metadata": {
        "id": "ve1VUWZuTXW4",
        "colab_type": "text"
      },
      "source": [
        "## Train-Test Split (80:20)"
      ]
    },
    {
      "cell_type": "code",
      "metadata": {
        "id": "VhLTCD1l34HN",
        "colab_type": "code",
        "colab": {
          "base_uri": "https://localhost:8080/",
          "height": 34
        },
        "outputId": "13b9feb4-b219-4071-ed37-9a200a69c3f6"
      },
      "source": [
        "ll = 0.8*len(X)\n",
        "ll = int(ll)\n",
        "X_train = X[:ll]\n",
        "X_test = X[ll:]\n",
        "y_train = Y[:ll]\n",
        "y_test = Y[ll:]\n",
        "print(len(X_train), len(y_train), len(X_test), len(y_test))"
      ],
      "execution_count": 29,
      "outputs": [
        {
          "output_type": "stream",
          "text": [
            "521 521 131 131\n"
          ],
          "name": "stdout"
        }
      ]
    },
    {
      "cell_type": "code",
      "metadata": {
        "id": "qeaJ3k4s34HQ",
        "colab_type": "code",
        "colab": {}
      },
      "source": [
        "# reshaping the array [-1 automatically adjust the number of data points here]\n",
        "X_train = np.array(X_train).reshape(-1,64,256,1)\n",
        "y_train = np.array(y_train)\n",
        "X_test = np.array(X_test).reshape(-1,64,256,1)\n",
        "y_test = np.array(y_test)\n",
        "\n",
        "# Normalise the data\n",
        "X_train = X_train /255\n",
        "X_test = X_test/255\n",
        "\n",
        "# converting target to_categorical (encoding the target characters to 36 dimensions)\n",
        "y_test = to_categorical(y_test,36)\n",
        "y_train = to_categorical(y_train,36)\n"
      ],
      "execution_count": 0,
      "outputs": []
    },
    {
      "cell_type": "code",
      "metadata": {
        "id": "z2XsK27M34HT",
        "colab_type": "code",
        "colab": {
          "base_uri": "https://localhost:8080/",
          "height": 85
        },
        "outputId": "8589509f-c7e5-40dd-b3d9-a2c6b1ef45d5"
      },
      "source": [
        "print(X_train.shape)\n",
        "print(y_train.shape)\n",
        "print(X_test.shape)\n",
        "print(y_test.shape)"
      ],
      "execution_count": 31,
      "outputs": [
        {
          "output_type": "stream",
          "text": [
            "(521, 64, 256, 1)\n",
            "(521, 8, 36)\n",
            "(131, 64, 256, 1)\n",
            "(131, 8, 36)\n"
          ],
          "name": "stdout"
        }
      ]
    },
    {
      "cell_type": "code",
      "metadata": {
        "id": "Z9qkX8fH34Hb",
        "colab_type": "code",
        "colab": {
          "base_uri": "https://localhost:8080/",
          "height": 289
        },
        "outputId": "630bac55-a3b1-448f-d3d6-12a58ce65501"
      },
      "source": [
        "print(y_train[0])"
      ],
      "execution_count": 32,
      "outputs": [
        {
          "output_type": "stream",
          "text": [
            "[[0. 0. 0. 0. 0. 0. 0. 0. 0. 0. 0. 0. 0. 0. 0. 0. 0. 0. 0. 0. 0. 0. 0. 0.\n",
            "  0. 0. 0. 0. 0. 0. 0. 0. 0. 0. 0. 1.]\n",
            " [0. 0. 1. 0. 0. 0. 0. 0. 0. 0. 0. 0. 0. 0. 0. 0. 0. 0. 0. 0. 0. 0. 0. 0.\n",
            "  0. 0. 0. 0. 0. 0. 0. 0. 0. 0. 0. 0.]\n",
            " [0. 0. 0. 0. 0. 0. 0. 0. 0. 0. 0. 0. 0. 0. 0. 0. 0. 0. 0. 0. 0. 0. 0. 0.\n",
            "  0. 0. 0. 0. 0. 0. 0. 1. 0. 0. 0. 0.]\n",
            " [0. 0. 0. 0. 0. 0. 0. 0. 0. 0. 0. 0. 0. 0. 0. 0. 0. 0. 0. 0. 0. 0. 0. 0.\n",
            "  0. 0. 0. 0. 1. 0. 0. 0. 0. 0. 0. 0.]\n",
            " [0. 0. 0. 0. 0. 0. 0. 0. 0. 0. 0. 0. 0. 0. 0. 0. 0. 0. 0. 0. 0. 0. 0. 0.\n",
            "  0. 0. 0. 1. 0. 0. 0. 0. 0. 0. 0. 0.]\n",
            " [0. 0. 0. 0. 0. 0. 0. 0. 0. 0. 0. 0. 0. 0. 0. 0. 0. 0. 0. 0. 0. 0. 0. 0.\n",
            "  0. 0. 0. 0. 0. 0. 1. 0. 0. 0. 0. 0.]\n",
            " [0. 0. 0. 0. 0. 0. 0. 0. 0. 0. 0. 0. 0. 0. 0. 0. 0. 0. 0. 0. 0. 0. 0. 0.\n",
            "  0. 0. 0. 0. 0. 0. 0. 1. 0. 0. 0. 0.]\n",
            " [1. 0. 0. 0. 0. 0. 0. 0. 0. 0. 0. 0. 0. 0. 0. 0. 0. 0. 0. 0. 0. 0. 0. 0.\n",
            "  0. 0. 0. 0. 0. 0. 0. 0. 0. 0. 0. 0.]]\n"
          ],
          "name": "stdout"
        }
      ]
    },
    {
      "cell_type": "markdown",
      "metadata": {
        "id": "AC9asD-X91GV",
        "colab_type": "text"
      },
      "source": [
        "# Data Modelling"
      ]
    },
    {
      "cell_type": "markdown",
      "metadata": {
        "id": "fegraL3034Hf",
        "colab_type": "text"
      },
      "source": [
        "# Let's define VGG-16 architecture\n",
        "- Could have used transfer learning but VGG-16 takes (224,224,3) as input dimension\n",
        "- So, better define the VGG-16 architecture from scratch"
      ]
    },
    {
      "cell_type": "code",
      "metadata": {
        "id": "dZxcv2XG34Hf",
        "colab_type": "code",
        "colab": {}
      },
      "source": [
        "def VGG(shape=(64, 256, 1),n_channels=64,weight_decay=0,batch_momentum=0.99):\n",
        "    bn_axis = 3\n",
        "    input_ = Input(shape=shape)\n",
        "    x = Conv2D(128, (3, 3), padding='same', name='block1_conv1', kernel_initializer='he_normal', kernel_regularizer=l2(weight_decay))(input_)\n",
        "    x = BatchNormalization(axis=bn_axis, name='bn00_x1', momentum=batch_momentum)(x)\n",
        "    x = Activation('relu')(x)\n",
        "    x = Conv2D(128, (3, 3), padding='same', name='block1_conv2', kernel_initializer='he_normal', kernel_regularizer=l2(weight_decay))(x)\n",
        "    x = BatchNormalization(axis=bn_axis, name='bn01_x2', momentum=batch_momentum)(x)\n",
        "    x = Activation('relu')(x)\n",
        "    x = MaxPooling2D((2, 2), strides=(2, 2), name='block1_pool')(x)\n",
        "\n",
        "    # Block 2\n",
        "    x = Conv2D(128, (3, 3), padding='same', name='block2_conv1', kernel_initializer='he_normal', kernel_regularizer=l2(weight_decay))(x)\n",
        "    x = BatchNormalization(axis=bn_axis, name='bn11_x1', momentum=batch_momentum)(x)\n",
        "    x = Activation('relu')(x)\n",
        "    x = Conv2D(128, (3, 3), padding='same', name='block2_conv2', kernel_initializer='he_normal', kernel_regularizer=l2(weight_decay))(x)\n",
        "    x = BatchNormalization(axis=bn_axis, name='bn12_x2', momentum=batch_momentum)(x)\n",
        "    x = Activation('relu')(x)\n",
        "    x = MaxPooling2D((2, 2), strides=(2, 2), name='block2_pool')(x)\n",
        "\n",
        "    # Block 3\n",
        "    x = Conv2D(256, (3, 3), padding='same', name='block3_conv1', kernel_initializer='he_normal', kernel_regularizer=l2(weight_decay))(x)\n",
        "    x = BatchNormalization(axis=bn_axis, name='bn21_x1', momentum=batch_momentum)(x)\n",
        "    x = Activation('relu')(x)\n",
        "    x = Conv2D(256, (3, 3), padding='same', name='block3_conv2', kernel_initializer='he_normal', kernel_regularizer=l2(weight_decay))(x)\n",
        "    x = BatchNormalization(axis=bn_axis, name='bn22_x2', momentum=batch_momentum)(x)\n",
        "    x = Activation('relu')(x)\n",
        "#    x = Conv2D(256, (3, 3), padding='same', name='block3_conv3', kernel_initializer='glorot_uniform', kernel_regularizer=l2(weight_decay))(x)\n",
        "#    x = BatchNormalization(axis=bn_axis, name='bn23_x3', momentum=batch_momentum)(x)\n",
        "#    x = Activation('relu')(x)\n",
        "    x = MaxPooling2D((2, 2), strides=(2, 2), name='block3_pool')(x)\n",
        "\n",
        "    # Block 4\n",
        "    x = Conv2D(512, (3, 3), padding='same', name='block4_conv1', kernel_initializer='he_normal', kernel_regularizer=l2(weight_decay))(x)\n",
        "    x = BatchNormalization(axis=bn_axis, name='bn31_x2', momentum=batch_momentum)(x)\n",
        "    x = Activation('relu')(x)\n",
        "    \n",
        "    x = Conv2D(512, (3, 3), padding='same', name='block4_conv2', kernel_regularizer=l2(weight_decay))(x)\n",
        "    x = BatchNormalization(axis=bn_axis, name='bn32_x2', momentum=batch_momentum)(x)\n",
        "    x = Activation('relu')(x)\n",
        "#    x = Conv2D(512, (3, 3), padding='same', name='block4_conv3', kernel_initializer='glorot_uniform', kernel_regularizer=l2(weight_decay))(x)\n",
        "#    x = BatchNormalization(axis=bn_axis, name='bn33_x2', momentum=batch_momentum)(x)\n",
        "#    x = Activation('relu')(x)\n",
        "    x = MaxPooling2D((2, 2), strides=(2, 2), name='block4_pool')(x)\n",
        "\n",
        "    # Block 5\n",
        "    x = Conv2D(512, (3, 3), padding='same', name='block5_conv1', kernel_initializer='he_normal', kernel_regularizer=l2(weight_decay))(x)\n",
        "    x = BatchNormalization(axis=bn_axis, name='bn41_x2', momentum=batch_momentum)(x)\n",
        "    x = Activation('relu')(x)\n",
        "#    x = Conv2D(512, (3, 3), padding='same', name='block5_conv2', kernel_initializer='glorot_uniform', kernel_regularizer=l2(weight_decay))(x)\n",
        "#    x = BatchNormalization(axis=bn_axis, name='bn42_x2', momentum=batch_momentum)(x)\n",
        "#    x = Activation('relu')(x)\n",
        "    \n",
        "    x = Conv2D(1024, (3, 3), padding='same', name='block5_conv3', kernel_initializer='he_normal', kernel_regularizer=l2(weight_decay))(x)\n",
        "    x = BatchNormalization(axis=bn_axis, name='bn43_x2', momentum=batch_momentum)(x)\n",
        "    x = Activation('relu')(x)\n",
        "    x = MaxPooling2D((2, 2), strides=(2, 2), name='block5_pool')(x)\n",
        "    \n",
        "    x = Conv2D(1024, (3, 3), padding='same', name='block6_conv1', kernel_initializer='he_normal', kernel_regularizer=l2(weight_decay))(x)\n",
        "    x = BatchNormalization(axis=bn_axis, name='bn51_x2', momentum=batch_momentum)(x)\n",
        "    x = Activation('relu')(x)\n",
        "    \n",
        "    x = Conv2D(1024*2, (3, 3), padding='same', name='block6_conv12', kernel_initializer='he_normal', kernel_regularizer=l2(weight_decay))(x)\n",
        "    x = BatchNormalization(axis=bn_axis, name='bn51_x22', momentum=batch_momentum)(x)\n",
        "    x = Activation('relu')(x)\n",
        "    x= Dropout(0.3, noise_shape=None, seed=None)(x)\n",
        "   \n",
        "    \n",
        "    #block5\n",
        "   \n",
        "    \n",
        "    X = AveragePooling2D((2, 2), strides = (2, 1), name='avg_pool1',padding ='same')(x)\n",
        "    X = Reshape((8,1024*2))(X)\n",
        "    \n",
        "    \n",
        "    X = Conv1D(512, 3, strides=1, padding='same',name = 'conv1y'  ,activation=None,  dilation_rate=1,  use_bias=True, kernel_initializer=\"he_normal\", kernel_regularizer=regularizers.l2(0.000))(X)\n",
        "    X = BatchNormalization(axis = 2, name = 'bn01y')(X)\n",
        "    X = Activation('relu')(X)\n",
        "    X= Dropout(0.3, noise_shape=None, seed=None)(X)\n",
        "    X = Conv1D(36, 1 , strides=1, padding='same',name = 'conv1x'  ,activation=None,  dilation_rate=1,  use_bias=True, kernel_initializer=\"he_normal\")(X)\n",
        "    X = BatchNormalization(axis = 2, name = 'bnhe')(X)\n",
        "    X = Activation('softmax')(X)\n",
        "    model = Model(inputs = [input_], outputs = [X])\n",
        "    return model"
      ],
      "execution_count": 0,
      "outputs": []
    },
    {
      "cell_type": "code",
      "metadata": {
        "id": "MwUBU_gA34Hj",
        "colab_type": "code",
        "colab": {}
      },
      "source": [
        "model = VGG(shape=(64, 256, 1))"
      ],
      "execution_count": 0,
      "outputs": []
    },
    {
      "cell_type": "code",
      "metadata": {
        "id": "OjXM5n5b34Hq",
        "colab_type": "code",
        "colab": {
          "base_uri": "https://localhost:8080/",
          "height": 1000
        },
        "outputId": "4773ca93-fcbb-4c44-dc0c-e1187920f454"
      },
      "source": [
        "model.summary()"
      ],
      "execution_count": 35,
      "outputs": [
        {
          "output_type": "stream",
          "text": [
            "Model: \"model_1\"\n",
            "_________________________________________________________________\n",
            "Layer (type)                 Output Shape              Param #   \n",
            "=================================================================\n",
            "input_1 (InputLayer)         (None, 64, 256, 1)        0         \n",
            "_________________________________________________________________\n",
            "block1_conv1 (Conv2D)        (None, 64, 256, 128)      1280      \n",
            "_________________________________________________________________\n",
            "bn00_x1 (BatchNormalization) (None, 64, 256, 128)      512       \n",
            "_________________________________________________________________\n",
            "activation_1 (Activation)    (None, 64, 256, 128)      0         \n",
            "_________________________________________________________________\n",
            "block1_conv2 (Conv2D)        (None, 64, 256, 128)      147584    \n",
            "_________________________________________________________________\n",
            "bn01_x2 (BatchNormalization) (None, 64, 256, 128)      512       \n",
            "_________________________________________________________________\n",
            "activation_2 (Activation)    (None, 64, 256, 128)      0         \n",
            "_________________________________________________________________\n",
            "block1_pool (MaxPooling2D)   (None, 32, 128, 128)      0         \n",
            "_________________________________________________________________\n",
            "block2_conv1 (Conv2D)        (None, 32, 128, 128)      147584    \n",
            "_________________________________________________________________\n",
            "bn11_x1 (BatchNormalization) (None, 32, 128, 128)      512       \n",
            "_________________________________________________________________\n",
            "activation_3 (Activation)    (None, 32, 128, 128)      0         \n",
            "_________________________________________________________________\n",
            "block2_conv2 (Conv2D)        (None, 32, 128, 128)      147584    \n",
            "_________________________________________________________________\n",
            "bn12_x2 (BatchNormalization) (None, 32, 128, 128)      512       \n",
            "_________________________________________________________________\n",
            "activation_4 (Activation)    (None, 32, 128, 128)      0         \n",
            "_________________________________________________________________\n",
            "block2_pool (MaxPooling2D)   (None, 16, 64, 128)       0         \n",
            "_________________________________________________________________\n",
            "block3_conv1 (Conv2D)        (None, 16, 64, 256)       295168    \n",
            "_________________________________________________________________\n",
            "bn21_x1 (BatchNormalization) (None, 16, 64, 256)       1024      \n",
            "_________________________________________________________________\n",
            "activation_5 (Activation)    (None, 16, 64, 256)       0         \n",
            "_________________________________________________________________\n",
            "block3_conv2 (Conv2D)        (None, 16, 64, 256)       590080    \n",
            "_________________________________________________________________\n",
            "bn22_x2 (BatchNormalization) (None, 16, 64, 256)       1024      \n",
            "_________________________________________________________________\n",
            "activation_6 (Activation)    (None, 16, 64, 256)       0         \n",
            "_________________________________________________________________\n",
            "block3_pool (MaxPooling2D)   (None, 8, 32, 256)        0         \n",
            "_________________________________________________________________\n",
            "block4_conv1 (Conv2D)        (None, 8, 32, 512)        1180160   \n",
            "_________________________________________________________________\n",
            "bn31_x2 (BatchNormalization) (None, 8, 32, 512)        2048      \n",
            "_________________________________________________________________\n",
            "activation_7 (Activation)    (None, 8, 32, 512)        0         \n",
            "_________________________________________________________________\n",
            "block4_conv2 (Conv2D)        (None, 8, 32, 512)        2359808   \n",
            "_________________________________________________________________\n",
            "bn32_x2 (BatchNormalization) (None, 8, 32, 512)        2048      \n",
            "_________________________________________________________________\n",
            "activation_8 (Activation)    (None, 8, 32, 512)        0         \n",
            "_________________________________________________________________\n",
            "block4_pool (MaxPooling2D)   (None, 4, 16, 512)        0         \n",
            "_________________________________________________________________\n",
            "block5_conv1 (Conv2D)        (None, 4, 16, 512)        2359808   \n",
            "_________________________________________________________________\n",
            "bn41_x2 (BatchNormalization) (None, 4, 16, 512)        2048      \n",
            "_________________________________________________________________\n",
            "activation_9 (Activation)    (None, 4, 16, 512)        0         \n",
            "_________________________________________________________________\n",
            "block5_conv3 (Conv2D)        (None, 4, 16, 1024)       4719616   \n",
            "_________________________________________________________________\n",
            "bn43_x2 (BatchNormalization) (None, 4, 16, 1024)       4096      \n",
            "_________________________________________________________________\n",
            "activation_10 (Activation)   (None, 4, 16, 1024)       0         \n",
            "_________________________________________________________________\n",
            "block5_pool (MaxPooling2D)   (None, 2, 8, 1024)        0         \n",
            "_________________________________________________________________\n",
            "block6_conv1 (Conv2D)        (None, 2, 8, 1024)        9438208   \n",
            "_________________________________________________________________\n",
            "bn51_x2 (BatchNormalization) (None, 2, 8, 1024)        4096      \n",
            "_________________________________________________________________\n",
            "activation_11 (Activation)   (None, 2, 8, 1024)        0         \n",
            "_________________________________________________________________\n",
            "block6_conv12 (Conv2D)       (None, 2, 8, 2048)        18876416  \n",
            "_________________________________________________________________\n",
            "bn51_x22 (BatchNormalization (None, 2, 8, 2048)        8192      \n",
            "_________________________________________________________________\n",
            "activation_12 (Activation)   (None, 2, 8, 2048)        0         \n",
            "_________________________________________________________________\n",
            "dropout_1 (Dropout)          (None, 2, 8, 2048)        0         \n",
            "_________________________________________________________________\n",
            "avg_pool1 (AveragePooling2D) (None, 1, 8, 2048)        0         \n",
            "_________________________________________________________________\n",
            "reshape_1 (Reshape)          (None, 8, 2048)           0         \n",
            "_________________________________________________________________\n",
            "conv1y (Conv1D)              (None, 8, 512)            3146240   \n",
            "_________________________________________________________________\n",
            "bn01y (BatchNormalization)   (None, 8, 512)            2048      \n",
            "_________________________________________________________________\n",
            "activation_13 (Activation)   (None, 8, 512)            0         \n",
            "_________________________________________________________________\n",
            "dropout_2 (Dropout)          (None, 8, 512)            0         \n",
            "_________________________________________________________________\n",
            "conv1x (Conv1D)              (None, 8, 36)             18468     \n",
            "_________________________________________________________________\n",
            "bnhe (BatchNormalization)    (None, 8, 36)             144       \n",
            "_________________________________________________________________\n",
            "activation_14 (Activation)   (None, 8, 36)             0         \n",
            "=================================================================\n",
            "Total params: 43,456,820\n",
            "Trainable params: 43,442,412\n",
            "Non-trainable params: 14,408\n",
            "_________________________________________________________________\n"
          ],
          "name": "stdout"
        }
      ]
    },
    {
      "cell_type": "markdown",
      "metadata": {
        "id": "0PN7_Pws9_u7",
        "colab_type": "text"
      },
      "source": [
        "## Defining custom metrics\n"
      ]
    },
    {
      "cell_type": "code",
      "metadata": {
        "id": "65I-Xans34H0",
        "colab_type": "code",
        "colab": {}
      },
      "source": [
        "def custom_loss(y_true, y_pred):\n",
        "    s = K.shape(y_pred)\n",
        "    y_true = K.reshape(y_true,(-1,s[-1]))\n",
        "    y_pred = K.reshape(y_pred,(-1,s[-1]))\n",
        "    loss = K.sum(keras.losses.categorical_crossentropy(y_true, y_pred))\n",
        "    num = K.shape(y_true)[0]\n",
        "    num=tf.cast(num,tf.float32)\n",
        "    return K.mean(loss)/num"
      ],
      "execution_count": 0,
      "outputs": []
    },
    {
      "cell_type": "code",
      "metadata": {
        "id": "XMEtk4iZ34H6",
        "colab_type": "code",
        "colab": {}
      },
      "source": [
        "def metric1(y_true, y_pred):\n",
        "\n",
        "    s = K.shape(y_pred)\n",
        "    \n",
        "    # reshape such that w and h dim are multiplied together\n",
        "    y_true_reshaped = K.reshape( y_true,  (-1,s[-1]) )\n",
        "    y_pred_reshaped = K.reshape( y_pred,  (-1, s[-1]) )\n",
        "\n",
        "    # correctly classified\n",
        "    clf_pred =  K.argmax(y_pred_reshaped,axis = -1)\n",
        "    y_true = K.argmax(y_true_reshaped,axis = -1)\n",
        "    correct_pixels_per_class = K.cast( K.equal(clf_pred,y_true), dtype='float32') #if equal\n",
        "\n",
        "    return K.sum(correct_pixels_per_class) / K.cast(K.prod(s[:-1]), dtype='float32') #accuracy"
      ],
      "execution_count": 0,
      "outputs": []
    },
    {
      "cell_type": "code",
      "metadata": {
        "id": "9Hp0XfyE34H-",
        "colab_type": "code",
        "colab": {}
      },
      "source": [
        "def metric2(y_true, y_pred):\n",
        "\n",
        "    s = K.shape(y_pred)\n",
        "\n",
        "    # correctly classified\n",
        "    clf_pred =  K.argmax(y_pred,axis = -1)\n",
        "    y_true = K.argmax(y_true,axis = -1)\n",
        "    correct_pixels_per_class = K.cast(K.all( K.equal(clf_pred,y_true),axis=-1), dtype='float32') #if equal\n",
        "\n",
        "    return K.sum(correct_pixels_per_class) / K.cast(K.prod(s[0]), dtype='float32') #accuracy"
      ],
      "execution_count": 0,
      "outputs": []
    },
    {
      "cell_type": "code",
      "metadata": {
        "id": "AacUErdk34IF",
        "colab_type": "code",
        "colab": {}
      },
      "source": [
        "model.compile(loss = custom_loss,optimizer='adam',metrics=[metric1,metric2])"
      ],
      "execution_count": 0,
      "outputs": []
    },
    {
      "cell_type": "code",
      "metadata": {
        "id": "QA6p8x_MEI_H",
        "colab_type": "code",
        "colab": {}
      },
      "source": [
        "model.load_weights(\"idfy1.h5\")"
      ],
      "execution_count": 0,
      "outputs": []
    },
    {
      "cell_type": "markdown",
      "metadata": {
        "id": "UZNUtCs1-FFo",
        "colab_type": "text"
      },
      "source": [
        "## Training"
      ]
    },
    {
      "cell_type": "code",
      "metadata": {
        "id": "AmuXolIA34II",
        "colab_type": "code",
        "colab": {
          "base_uri": "https://localhost:8080/",
          "height": 1000
        },
        "outputId": "641114fd-519e-488c-ed20-c1d42eace649"
      },
      "source": [
        "datagen = ImageDataGenerator(width_shift_range=0.14,\n",
        "                                 height_shift_range=0.08,\n",
        "                                 fill_mode='constant',\n",
        "                                 zoom_range = 0.1,\n",
        "                                 rotation_range = 10,\n",
        "                                 #rescale  =1./255\n",
        "                                 )\n",
        "\n",
        "mcp_save = ModelCheckpoint('idfy1.h5', save_best_only=True, monitor='val_loss', mode='min',verbose=1)\n",
        "\n",
        "def scheduler(epoch):\n",
        "    if epoch <3 :\n",
        "        return 0.001/5\n",
        "    elif epoch < 10:\n",
        "        return 0.001/10\n",
        "    elif epoch < 15:\n",
        "        return  0.00001\n",
        "    elif epoch <30:\n",
        "        return  0.00001/2\n",
        "    \n",
        "n = X_train.shape[0] \n",
        "\n",
        "lr_reduce = LearningRateScheduler(scheduler,verbose = 1)\n",
        "\n",
        "history = model.fit_generator(datagen.flow(X_train, y_train,batch_size=64),\n",
        "                         epochs = 30,\n",
        "                         steps_per_epoch=n//64,\n",
        "                         callbacks=[lr_reduce,mcp_save],\n",
        "                         validation_data=(X_test, y_test)) "
      ],
      "execution_count": 60,
      "outputs": [
        {
          "output_type": "stream",
          "text": [
            "Epoch 1/30\n",
            "\n",
            "Epoch 00001: LearningRateScheduler setting learning rate to 0.0002.\n",
            "8/8 [==============================] - 12s 2s/step - loss: 0.5540 - metric1: 0.9953 - metric2: 0.9705 - val_loss: 1.0427 - val_metric1: 0.9232 - val_metric2: 0.7448\n",
            "\n",
            "Epoch 00001: val_loss improved from inf to 1.04265, saving model to idfy1.h5\n",
            "Epoch 2/30\n",
            "\n",
            "Epoch 00002: LearningRateScheduler setting learning rate to 0.0002.\n",
            "8/8 [==============================] - 13s 2s/step - loss: 0.5444 - metric1: 0.9980 - metric2: 0.9844 - val_loss: 1.0200 - val_metric1: 0.9034 - val_metric2: 0.6128\n",
            "\n",
            "Epoch 00002: val_loss improved from 1.04265 to 1.02004, saving model to idfy1.h5\n",
            "Epoch 3/30\n",
            "\n",
            "Epoch 00003: LearningRateScheduler setting learning rate to 0.0002.\n",
            "8/8 [==============================] - 12s 1s/step - loss: 0.5748 - metric1: 0.9939 - metric2: 0.9648 - val_loss: 1.0594 - val_metric1: 0.9147 - val_metric2: 0.7031\n",
            "\n",
            "Epoch 00003: val_loss did not improve from 1.02004\n",
            "Epoch 4/30\n",
            "\n",
            "Epoch 00004: LearningRateScheduler setting learning rate to 0.0001.\n",
            "8/8 [==============================] - 12s 1s/step - loss: 0.5642 - metric1: 0.9963 - metric2: 0.9724 - val_loss: 1.0557 - val_metric1: 0.9089 - val_metric2: 0.7083\n",
            "\n",
            "Epoch 00004: val_loss did not improve from 1.02004\n",
            "Epoch 5/30\n",
            "\n",
            "Epoch 00005: LearningRateScheduler setting learning rate to 0.0001.\n",
            "8/8 [==============================] - 11s 1s/step - loss: 0.5984 - metric1: 0.9919 - metric2: 0.9388 - val_loss: 1.0583 - val_metric1: 0.8956 - val_metric2: 0.5816\n",
            "\n",
            "Epoch 00005: val_loss did not improve from 1.02004\n",
            "Epoch 6/30\n",
            "\n",
            "Epoch 00006: LearningRateScheduler setting learning rate to 0.0001.\n",
            "8/8 [==============================] - 12s 1s/step - loss: 0.5608 - metric1: 0.9951 - metric2: 0.9646 - val_loss: 1.0796 - val_metric1: 0.9021 - val_metric2: 0.5868\n",
            "\n",
            "Epoch 00006: val_loss did not improve from 1.02004\n",
            "Epoch 7/30\n",
            "\n",
            "Epoch 00007: LearningRateScheduler setting learning rate to 0.0001.\n",
            "8/8 [==============================] - 13s 2s/step - loss: 0.5312 - metric1: 0.9976 - metric2: 0.9824 - val_loss: 0.9968 - val_metric1: 0.9219 - val_metric2: 0.7396\n",
            "\n",
            "Epoch 00007: val_loss improved from 1.02004 to 0.99679, saving model to idfy1.h5\n",
            "Epoch 8/30\n",
            "\n",
            "Epoch 00008: LearningRateScheduler setting learning rate to 0.0001.\n",
            "8/8 [==============================] - 12s 2s/step - loss: 0.5390 - metric1: 0.9990 - metric2: 0.9922 - val_loss: 1.0066 - val_metric1: 0.9060 - val_metric2: 0.6128\n",
            "\n",
            "Epoch 00008: val_loss did not improve from 0.99679\n",
            "Epoch 9/30\n",
            "\n",
            "Epoch 00009: LearningRateScheduler setting learning rate to 0.0001.\n",
            "8/8 [==============================] - 12s 1s/step - loss: 0.5338 - metric1: 0.9988 - metric2: 0.9922 - val_loss: 1.0025 - val_metric1: 0.9093 - val_metric2: 0.6285\n",
            "\n",
            "Epoch 00009: val_loss did not improve from 0.99679\n",
            "Epoch 10/30\n",
            "\n",
            "Epoch 00010: LearningRateScheduler setting learning rate to 0.0001.\n",
            "8/8 [==============================] - 12s 1s/step - loss: 0.5339 - metric1: 0.9968 - metric2: 0.9744 - val_loss: 1.0216 - val_metric1: 0.9212 - val_metric2: 0.7344\n",
            "\n",
            "Epoch 00010: val_loss did not improve from 0.99679\n",
            "Epoch 11/30\n",
            "\n",
            "Epoch 00011: LearningRateScheduler setting learning rate to 1e-05.\n",
            "8/8 [==============================] - 12s 1s/step - loss: 0.5480 - metric1: 0.9951 - metric2: 0.9646 - val_loss: 0.9872 - val_metric1: 0.9212 - val_metric2: 0.7240\n",
            "\n",
            "Epoch 00011: val_loss improved from 0.99679 to 0.98720, saving model to idfy1.h5\n",
            "Epoch 12/30\n",
            "\n",
            "Epoch 00012: LearningRateScheduler setting learning rate to 1e-05.\n",
            "8/8 [==============================] - 12s 2s/step - loss: 0.5247 - metric1: 0.9990 - metric2: 0.9941 - val_loss: 0.9816 - val_metric1: 0.8974 - val_metric2: 0.6285\n",
            "\n",
            "Epoch 00012: val_loss improved from 0.98720 to 0.98162, saving model to idfy1.h5\n",
            "Epoch 13/30\n",
            "\n",
            "Epoch 00013: LearningRateScheduler setting learning rate to 1e-05.\n",
            "8/8 [==============================] - 12s 1s/step - loss: 0.5395 - metric1: 0.9948 - metric2: 0.9744 - val_loss: 0.9794 - val_metric1: 0.9106 - val_metric2: 0.6285\n",
            "\n",
            "Epoch 00013: val_loss improved from 0.98162 to 0.97943, saving model to idfy1.h5\n",
            "Epoch 14/30\n",
            "\n",
            "Epoch 00014: LearningRateScheduler setting learning rate to 1e-05.\n",
            "8/8 [==============================] - 12s 1s/step - loss: 0.5256 - metric1: 0.9968 - metric2: 0.9763 - val_loss: 0.9696 - val_metric1: 0.9271 - val_metric2: 0.7552\n",
            "\n",
            "Epoch 00014: val_loss improved from 0.97943 to 0.96959, saving model to idfy1.h5\n",
            "Epoch 15/30\n",
            "\n",
            "Epoch 00015: LearningRateScheduler setting learning rate to 1e-05.\n",
            "8/8 [==============================] - 13s 2s/step - loss: 0.4945 - metric1: 0.9990 - metric2: 0.9941 - val_loss: 0.9579 - val_metric1: 0.9138 - val_metric2: 0.6493\n",
            "\n",
            "Epoch 00015: val_loss improved from 0.96959 to 0.95785, saving model to idfy1.h5\n",
            "Epoch 16/30\n",
            "\n",
            "Epoch 00016: LearningRateScheduler setting learning rate to 5e-06.\n",
            "8/8 [==============================] - 12s 1s/step - loss: 0.5179 - metric1: 0.9993 - metric2: 0.9941 - val_loss: 0.9514 - val_metric1: 0.9132 - val_metric2: 0.6441\n",
            "\n",
            "Epoch 00016: val_loss improved from 0.95785 to 0.95136, saving model to idfy1.h5\n",
            "Epoch 17/30\n",
            "\n",
            "Epoch 00017: LearningRateScheduler setting learning rate to 5e-06.\n",
            "8/8 [==============================] - 12s 1s/step - loss: 0.5193 - metric1: 0.9973 - metric2: 0.9783 - val_loss: 0.9468 - val_metric1: 0.9138 - val_metric2: 0.6441\n",
            "\n",
            "Epoch 00017: val_loss improved from 0.95136 to 0.94681, saving model to idfy1.h5\n",
            "Epoch 18/30\n",
            "\n",
            "Epoch 00018: LearningRateScheduler setting learning rate to 5e-06.\n",
            "8/8 [==============================] - 12s 2s/step - loss: 0.5222 - metric1: 0.9968 - metric2: 0.9744 - val_loss: 0.9498 - val_metric1: 0.9138 - val_metric2: 0.6493\n",
            "\n",
            "Epoch 00018: val_loss did not improve from 0.94681\n",
            "Epoch 19/30\n",
            "\n",
            "Epoch 00019: LearningRateScheduler setting learning rate to 5e-06.\n",
            "8/8 [==============================] - 12s 1s/step - loss: 0.5223 - metric1: 0.9998 - metric2: 0.9980 - val_loss: 0.9514 - val_metric1: 0.9138 - val_metric2: 0.6493\n",
            "\n",
            "Epoch 00019: val_loss did not improve from 0.94681\n",
            "Epoch 20/30\n",
            "\n",
            "Epoch 00020: LearningRateScheduler setting learning rate to 5e-06.\n",
            "8/8 [==============================] - 12s 1s/step - loss: 0.5057 - metric1: 0.9988 - metric2: 0.9922 - val_loss: 0.9515 - val_metric1: 0.9132 - val_metric2: 0.6493\n",
            "\n",
            "Epoch 00020: val_loss did not improve from 0.94681\n",
            "Epoch 21/30\n",
            "\n",
            "Epoch 00021: LearningRateScheduler setting learning rate to 5e-06.\n",
            "8/8 [==============================] - 12s 1s/step - loss: 0.5255 - metric1: 0.9990 - metric2: 0.9941 - val_loss: 0.9485 - val_metric1: 0.9264 - val_metric2: 0.7604\n",
            "\n",
            "Epoch 00021: val_loss did not improve from 0.94681\n",
            "Epoch 22/30\n",
            "\n",
            "Epoch 00022: LearningRateScheduler setting learning rate to 5e-06.\n",
            "8/8 [==============================] - 12s 1s/step - loss: 0.5119 - metric1: 0.9995 - metric2: 0.9961 - val_loss: 0.9463 - val_metric1: 0.9271 - val_metric2: 0.7604\n",
            "\n",
            "Epoch 00022: val_loss improved from 0.94681 to 0.94630, saving model to idfy1.h5\n",
            "Epoch 23/30\n",
            "\n",
            "Epoch 00023: LearningRateScheduler setting learning rate to 5e-06.\n",
            "8/8 [==============================] - 12s 2s/step - loss: 0.5257 - metric1: 0.9983 - metric2: 0.9922 - val_loss: 0.9433 - val_metric1: 0.9264 - val_metric2: 0.7552\n",
            "\n",
            "Epoch 00023: val_loss improved from 0.94630 to 0.94326, saving model to idfy1.h5\n",
            "Epoch 24/30\n",
            "\n",
            "Epoch 00024: LearningRateScheduler setting learning rate to 5e-06.\n",
            "8/8 [==============================] - 13s 2s/step - loss: 0.4999 - metric1: 0.9988 - metric2: 0.9902 - val_loss: 0.9423 - val_metric1: 0.9132 - val_metric2: 0.6441\n",
            "\n",
            "Epoch 00024: val_loss improved from 0.94326 to 0.94227, saving model to idfy1.h5\n",
            "Epoch 25/30\n",
            "\n",
            "Epoch 00025: LearningRateScheduler setting learning rate to 5e-06.\n",
            "8/8 [==============================] - 12s 1s/step - loss: 0.4994 - metric1: 0.9993 - metric2: 0.9961 - val_loss: 0.9408 - val_metric1: 0.9132 - val_metric2: 0.6441\n",
            "\n",
            "Epoch 00025: val_loss improved from 0.94227 to 0.94077, saving model to idfy1.h5\n",
            "Epoch 26/30\n",
            "\n",
            "Epoch 00026: LearningRateScheduler setting learning rate to 5e-06.\n",
            "8/8 [==============================] - 12s 1s/step - loss: 0.5247 - metric1: 0.9983 - metric2: 0.9883 - val_loss: 0.9411 - val_metric1: 0.9138 - val_metric2: 0.6441\n",
            "\n",
            "Epoch 00026: val_loss did not improve from 0.94077\n",
            "Epoch 27/30\n",
            "\n",
            "Epoch 00027: LearningRateScheduler setting learning rate to 5e-06.\n",
            "8/8 [==============================] - 12s 1s/step - loss: 0.5006 - metric1: 0.9993 - metric2: 0.9941 - val_loss: 0.9423 - val_metric1: 0.9284 - val_metric2: 0.7552\n",
            "\n",
            "Epoch 00027: val_loss did not improve from 0.94077\n",
            "Epoch 28/30\n",
            "\n",
            "Epoch 00028: LearningRateScheduler setting learning rate to 5e-06.\n",
            "8/8 [==============================] - 12s 1s/step - loss: 0.5101 - metric1: 0.9995 - metric2: 0.9961 - val_loss: 0.9452 - val_metric1: 0.9284 - val_metric2: 0.7552\n",
            "\n",
            "Epoch 00028: val_loss did not improve from 0.94077\n",
            "Epoch 29/30\n",
            "\n",
            "Epoch 00029: LearningRateScheduler setting learning rate to 5e-06.\n",
            "8/8 [==============================] - 12s 1s/step - loss: 0.5222 - metric1: 0.9894 - metric2: 0.9763 - val_loss: 0.9452 - val_metric1: 0.9290 - val_metric2: 0.7604\n",
            "\n",
            "Epoch 00029: val_loss did not improve from 0.94077\n",
            "Epoch 30/30\n",
            "\n",
            "Epoch 00030: LearningRateScheduler setting learning rate to 5e-06.\n",
            "8/8 [==============================] - 13s 2s/step - loss: 0.4988 - metric1: 0.9966 - metric2: 0.9766 - val_loss: 0.9445 - val_metric1: 0.9284 - val_metric2: 0.7604\n",
            "\n",
            "Epoch 00030: val_loss did not improve from 0.94077\n"
          ],
          "name": "stdout"
        }
      ]
    },
    {
      "cell_type": "markdown",
      "metadata": {
        "id": "TUlWMZ4y0vrN",
        "colab_type": "text"
      },
      "source": [
        "## Utility funtion for plotting"
      ]
    },
    {
      "cell_type": "code",
      "metadata": {
        "id": "ltSFGEa734IN",
        "colab_type": "code",
        "colab": {}
      },
      "source": [
        "%matplotlib notebook\n",
        "import matplotlib.pyplot as plt\n",
        "import numpy as np\n",
        "import time\n",
        "# https://gist.github.com/greydanus/f6eee59eaf1d90fcb3b534a25362cea4\n",
        "# https://stackoverflow.com/a/14434334\n",
        "# this function is used to update the plots for each epoch and error\n",
        "def plt_dynamic(x, vy, ty, ax, colors=['b']):\n",
        "    ax.plot(x, vy, 'b', label=\"Validation Loss\")\n",
        "    ax.plot(x, ty, 'r', label=\"Train Loss\")\n",
        "    plt.legend()\n",
        "    plt.grid()\n",
        "    fig.canvas.draw()"
      ],
      "execution_count": 0,
      "outputs": []
    },
    {
      "cell_type": "code",
      "metadata": {
        "id": "O4ch2LLa-NhQ",
        "colab_type": "code",
        "colab": {}
      },
      "source": [
        "nb_epoch=30"
      ],
      "execution_count": 0,
      "outputs": []
    },
    {
      "cell_type": "code",
      "metadata": {
        "id": "Eyng-1b6sW3K",
        "colab_type": "code",
        "colab": {
          "base_uri": "https://localhost:8080/",
          "height": 296
        },
        "outputId": "554c1cdd-f53b-42a6-b185-bb28043737a5"
      },
      "source": [
        "%matplotlib inline\n",
        "score = model.evaluate(X_test, y_test, verbose=0) \n",
        "print('Test accuracy:', score[1])\n",
        "\n",
        "fig,ax = plt.subplots(1,1)\n",
        "ax.set_xlabel('epoch') ; ax.set_ylabel('Categorical Crossentropy Loss')\n",
        "\n",
        "# list of epoch numbers\n",
        "x = list(range(1,nb_epoch+1))\n",
        "\n",
        "vy = history.history['val_loss']\n",
        "ty = history.history['loss']\n",
        "plt_dynamic(x, vy, ty, ax)"
      ],
      "execution_count": 58,
      "outputs": [
        {
          "output_type": "stream",
          "text": [
            "Test accuracy: 0.909375011920929\n"
          ],
          "name": "stdout"
        },
        {
          "output_type": "display_data",
          "data": {
            "image/png": "[encoded data removed]",
            "text/plain": [
              "<Figure size 432x288 with 1 Axes>"
            ]
          },
          "metadata": {
            "tags": [],
            "needs_background": "light"
          }
        }
      ]
    },
    {
      "cell_type": "markdown",
      "metadata": {
        "id": "OE3GxHjUSh69",
        "colab_type": "text"
      },
      "source": [
        "## Conclusion : \n",
        "- The dataset was very small so, it had very less training data .\n",
        "- Need to modify CNN architecture and need more data for better accuracy.\n"
      ]
    },
    {
      "cell_type": "code",
      "metadata": {
        "id": "lHv8oa6I34IX",
        "colab_type": "code",
        "colab": {}
      },
      "source": [
        ""
      ],
      "execution_count": 0,
      "outputs": []
    },
    {
      "cell_type": "code",
      "metadata": {
        "id": "dBzK_1-E34Ic",
        "colab_type": "code",
        "colab": {}
      },
      "source": [
        ""
      ],
      "execution_count": 0,
      "outputs": []
    }
  ]
}